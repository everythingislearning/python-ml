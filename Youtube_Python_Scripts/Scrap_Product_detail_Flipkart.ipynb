{
 "cells": [
  {
   "cell_type": "code",
   "execution_count": null,
   "metadata": {},
   "outputs": [],
   "source": [
    "# Conda Environemt\n",
    "    # conda install BeautifulSoup4\n",
    "# pip Environment\n",
    "    # pip install BeautifulSoup4"
   ]
  },
  {
   "cell_type": "code",
   "execution_count": 69,
   "metadata": {},
   "outputs": [],
   "source": [
    "import requests as reqs\n",
    "from bs4 import BeautifulSoup"
   ]
  },
  {
   "cell_type": "code",
   "execution_count": 70,
   "metadata": {},
   "outputs": [],
   "source": [
    "url = 'https://www.flipkart.com/hp-15s-ryzen-3-dual-core-3250u-8-gb-1-tb-hdd-windows-10-home-15s-gr0011au-thin-light-laptop/p/itma23a328a1f458?pid=COMFZHFWETTEFHVZ&lid=LSTCOMFZHFWETTEFHVZ2OSEK3&marketplace=FLIPKART&q=laptops&store=6bo%2Fb5g&srno=s_1_1&otracker=search&otracker1=search&fm=SEARCH&iid=71770eb3-a8de-40ec-b0b5-1f6454dff158.COMFZHFWETTEFHVZ.SEARCH&ppt=hp&ppn=homepage&ssid=y4l2xc4s3k0000001620756290837&qH=c06ea84a1e3dc3c6'\n",
    "response = reqs.get(url)\n",
    "\n",
    "soup = BeautifulSoup(response.content, 'html.parser')"
   ]
  },
  {
   "cell_type": "code",
   "execution_count": 77,
   "metadata": {},
   "outputs": [
    {
     "data": {
      "text/plain": [
       "'HP 15s Ryzen 3 Dual Core 3250U - (8 GB/1 TB HDD/Windows 10 Home) 15s-GR0011AU Thin and Light Laptop\\xa0\\xa0(15.6 inch, Natural Silver, 1.76 kg, With MS Office)'"
      ]
     },
     "execution_count": 77,
     "metadata": {},
     "output_type": "execute_result"
    }
   ],
   "source": [
    "# Product name\n",
    "product_name = soup.find('span', {'class':'B_NuCI'}).text\n",
    "product_name"
   ]
  },
  {
   "cell_type": "code",
   "execution_count": 84,
   "metadata": {},
   "outputs": [
    {
     "name": "stdout",
     "output_type": "stream",
     "text": [
      "33990.0\n"
     ]
    }
   ],
   "source": [
    "# Product Price\n",
    "price_tag = soup.find('div', {'class':'_30jeq3 _16Jk6d'})\n",
    "product_price = '0'\n",
    "if price_tag:\n",
    "    product_price = price_tag.text.replace('₹','').replace(',', '')\n",
    "    product_price = float(product_price)\n",
    "print(product_price)"
   ]
  },
  {
   "cell_type": "code",
   "execution_count": 118,
   "metadata": {},
   "outputs": [
    {
     "name": "stdout",
     "output_type": "stream",
     "text": [
      "747 Ratings 89 Reviews\n"
     ]
    }
   ],
   "source": [
    "# Ratings and Reviews Count\n",
    "rat_rev_main_span = soup.find('span', {'class':'_2_R_DZ'})\n",
    "\n",
    "ratings = '0 ratings'\n",
    "reviews = '0 reviews'\n",
    "if rat_rev_main_span:\n",
    "    rat_rev = rat_rev_main_span.text.replace(u'\\xa0', ' ')\n",
    "    rat_rev_list = rat_rev.split('&')\n",
    "    ratings = rat_rev_list[0].strip()\n",
    "    reviews = rat_rev_list[1].strip()\n",
    "print(ratings, reviews)"
   ]
  },
  {
   "cell_type": "code",
   "execution_count": 120,
   "metadata": {},
   "outputs": [
    {
     "name": "stdout",
     "output_type": "stream",
     "text": [
      "Product name: HP 15s Ryzen 3 Dual Core 3250U - (8 GB/1 TB HDD/Windows 10 Home) 15s-GR0011AU Thin and Light Laptop  (15.6 inch, Natural Silver, 1.76 kg, With MS Office)\n",
      "Product price: 33990.0\n",
      "Ratings: 747 Ratings\n",
      "Reviews: 89 Reviews\n"
     ]
    }
   ],
   "source": [
    "print('Product name:', product_name)\n",
    "print('Product price:', product_price)\n",
    "print('Ratings:', ratings)\n",
    "print('Reviews:', reviews)"
   ]
  },
  {
   "cell_type": "code",
   "execution_count": null,
   "metadata": {},
   "outputs": [],
   "source": []
  }
 ],
 "metadata": {
  "kernelspec": {
   "display_name": "WebScrap",
   "language": "python",
   "name": "webscrap"
  },
  "language_info": {
   "codemirror_mode": {
    "name": "ipython",
    "version": 3
   },
   "file_extension": ".py",
   "mimetype": "text/x-python",
   "name": "python",
   "nbconvert_exporter": "python",
   "pygments_lexer": "ipython3",
   "version": "3.8.5"
  }
 },
 "nbformat": 4,
 "nbformat_minor": 4
}
